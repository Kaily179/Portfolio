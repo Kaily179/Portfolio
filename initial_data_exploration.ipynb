{
 "cells": [
  {
   "cell_type": "code",
   "execution_count": 5,
   "id": "ee13f568",
   "metadata": {},
   "outputs": [],
   "source": [
    "# General packages\n",
    "import numpy as np\n",
    "import pandas as pd\n",
    "import seaborn as sns\n",
    "import matplotlib.pyplot as plt\n",
    "import os"
   ]
  },
  {
   "cell_type": "markdown",
   "id": "60f5fce9",
   "metadata": {},
   "source": [
    "### Importing Data"
   ]
  },
  {
   "cell_type": "code",
   "execution_count": 6,
   "id": "3f43ebb6",
   "metadata": {},
   "outputs": [],
   "source": [
    "# Reading data from .csv file\n",
    "Reviews = pd.read_csv('DatafinitiElectronicsProductData.csv')"
   ]
  },
  {
   "cell_type": "code",
   "execution_count": 7,
   "id": "908ff3b7",
   "metadata": {},
   "outputs": [
    {
     "data": {
      "text/html": [
       "<div>\n",
       "<style scoped>\n",
       "    .dataframe tbody tr th:only-of-type {\n",
       "        vertical-align: middle;\n",
       "    }\n",
       "\n",
       "    .dataframe tbody tr th {\n",
       "        vertical-align: top;\n",
       "    }\n",
       "\n",
       "    .dataframe thead th {\n",
       "        text-align: right;\n",
       "    }\n",
       "</style>\n",
       "<table border=\"1\" class=\"dataframe\">\n",
       "  <thead>\n",
       "    <tr style=\"text-align: right;\">\n",
       "      <th></th>\n",
       "      <th>id</th>\n",
       "      <th>asins</th>\n",
       "      <th>brand</th>\n",
       "      <th>categories</th>\n",
       "      <th>colors</th>\n",
       "      <th>dateAdded</th>\n",
       "      <th>dateUpdated</th>\n",
       "      <th>dimension</th>\n",
       "      <th>ean</th>\n",
       "      <th>imageURLs</th>\n",
       "      <th>...</th>\n",
       "      <th>reviews.doRecommend</th>\n",
       "      <th>reviews.numHelpful</th>\n",
       "      <th>reviews.rating</th>\n",
       "      <th>reviews.sourceURLs</th>\n",
       "      <th>reviews.text</th>\n",
       "      <th>reviews.title</th>\n",
       "      <th>reviews.username</th>\n",
       "      <th>sourceURLs</th>\n",
       "      <th>upc</th>\n",
       "      <th>weight</th>\n",
       "    </tr>\n",
       "  </thead>\n",
       "  <tbody>\n",
       "    <tr>\n",
       "      <th>0</th>\n",
       "      <td>AVpf3txeLJeJML43FN82</td>\n",
       "      <td>B0168YIWSI</td>\n",
       "      <td>Microsoft</td>\n",
       "      <td>Electronics,Computers,Computer Accessories,Key...</td>\n",
       "      <td>Black</td>\n",
       "      <td>2015-11-13T12:28:09Z</td>\n",
       "      <td>2018-01-29T02:15:13Z</td>\n",
       "      <td>11.6 in x 8.5 in x 0.19 in</td>\n",
       "      <td>8.900000e+11</td>\n",
       "      <td>https://i5.walmartimages.com/asr/2a41f6f0-844e...</td>\n",
       "      <td>...</td>\n",
       "      <td>True</td>\n",
       "      <td>0.0</td>\n",
       "      <td>5.0</td>\n",
       "      <td>http://reviews.bestbuy.com/3545/4562009/review...</td>\n",
       "      <td>This keyboard is very easy to type on, but the...</td>\n",
       "      <td>Love the fingerprint reader</td>\n",
       "      <td>JNH1</td>\n",
       "      <td>https://www.walmart.com/ip/Microsoft-Surface-P...</td>\n",
       "      <td>8.900000e+11</td>\n",
       "      <td>1.1 pounds</td>\n",
       "    </tr>\n",
       "    <tr>\n",
       "      <th>1</th>\n",
       "      <td>AVpf3txeLJeJML43FN82</td>\n",
       "      <td>B0168YIWSI</td>\n",
       "      <td>Microsoft</td>\n",
       "      <td>Electronics,Computers,Computer Accessories,Key...</td>\n",
       "      <td>Black</td>\n",
       "      <td>2015-11-13T12:28:09Z</td>\n",
       "      <td>2018-01-29T02:15:13Z</td>\n",
       "      <td>11.6 in x 8.5 in x 0.19 in</td>\n",
       "      <td>8.900000e+11</td>\n",
       "      <td>https://i5.walmartimages.com/asr/2a41f6f0-844e...</td>\n",
       "      <td>...</td>\n",
       "      <td>True</td>\n",
       "      <td>0.0</td>\n",
       "      <td>4.0</td>\n",
       "      <td>http://reviews.bestbuy.com/3545/4562009/review...</td>\n",
       "      <td>It's thin and light. I can type pretty easily ...</td>\n",
       "      <td>Nice</td>\n",
       "      <td>Appa</td>\n",
       "      <td>https://www.walmart.com/ip/Microsoft-Surface-P...</td>\n",
       "      <td>8.900000e+11</td>\n",
       "      <td>1.1 pounds</td>\n",
       "    </tr>\n",
       "    <tr>\n",
       "      <th>2</th>\n",
       "      <td>AVpf3txeLJeJML43FN82</td>\n",
       "      <td>B0168YIWSI</td>\n",
       "      <td>Microsoft</td>\n",
       "      <td>Electronics,Computers,Computer Accessories,Key...</td>\n",
       "      <td>Black</td>\n",
       "      <td>2015-11-13T12:28:09Z</td>\n",
       "      <td>2018-01-29T02:15:13Z</td>\n",
       "      <td>11.6 in x 8.5 in x 0.19 in</td>\n",
       "      <td>8.900000e+11</td>\n",
       "      <td>https://i5.walmartimages.com/asr/2a41f6f0-844e...</td>\n",
       "      <td>...</td>\n",
       "      <td>True</td>\n",
       "      <td>0.0</td>\n",
       "      <td>4.0</td>\n",
       "      <td>http://reviews.bestbuy.com/3545/4562009/review...</td>\n",
       "      <td>I love the new design the keys are spaced well...</td>\n",
       "      <td>New</td>\n",
       "      <td>Kman</td>\n",
       "      <td>https://www.walmart.com/ip/Microsoft-Surface-P...</td>\n",
       "      <td>8.900000e+11</td>\n",
       "      <td>1.1 pounds</td>\n",
       "    </tr>\n",
       "    <tr>\n",
       "      <th>3</th>\n",
       "      <td>AVpf3txeLJeJML43FN82</td>\n",
       "      <td>B0168YIWSI</td>\n",
       "      <td>Microsoft</td>\n",
       "      <td>Electronics,Computers,Computer Accessories,Key...</td>\n",
       "      <td>Black</td>\n",
       "      <td>2015-11-13T12:28:09Z</td>\n",
       "      <td>2018-01-29T02:15:13Z</td>\n",
       "      <td>11.6 in x 8.5 in x 0.19 in</td>\n",
       "      <td>8.900000e+11</td>\n",
       "      <td>https://i5.walmartimages.com/asr/2a41f6f0-844e...</td>\n",
       "      <td>...</td>\n",
       "      <td>True</td>\n",
       "      <td>0.0</td>\n",
       "      <td>5.0</td>\n",
       "      <td>http://reviews.bestbuy.com/3545/4562009/review...</td>\n",
       "      <td>Attached easily and firmly. Has a nice feel. A...</td>\n",
       "      <td>Nice keyboard</td>\n",
       "      <td>UpstateNY</td>\n",
       "      <td>https://www.walmart.com/ip/Microsoft-Surface-P...</td>\n",
       "      <td>8.900000e+11</td>\n",
       "      <td>1.1 pounds</td>\n",
       "    </tr>\n",
       "    <tr>\n",
       "      <th>4</th>\n",
       "      <td>AVpf3txeLJeJML43FN82</td>\n",
       "      <td>B0168YIWSI</td>\n",
       "      <td>Microsoft</td>\n",
       "      <td>Electronics,Computers,Computer Accessories,Key...</td>\n",
       "      <td>Black</td>\n",
       "      <td>2015-11-13T12:28:09Z</td>\n",
       "      <td>2018-01-29T02:15:13Z</td>\n",
       "      <td>11.6 in x 8.5 in x 0.19 in</td>\n",
       "      <td>8.900000e+11</td>\n",
       "      <td>https://i5.walmartimages.com/asr/2a41f6f0-844e...</td>\n",
       "      <td>...</td>\n",
       "      <td>True</td>\n",
       "      <td>0.0</td>\n",
       "      <td>5.0</td>\n",
       "      <td>http://reviews.bestbuy.com/3545/4562009/review...</td>\n",
       "      <td>Our original keyboard was okay, but did not ha...</td>\n",
       "      <td>Nice improvement</td>\n",
       "      <td>Glickster</td>\n",
       "      <td>https://www.walmart.com/ip/Microsoft-Surface-P...</td>\n",
       "      <td>8.900000e+11</td>\n",
       "      <td>1.1 pounds</td>\n",
       "    </tr>\n",
       "  </tbody>\n",
       "</table>\n",
       "<p>5 rows × 27 columns</p>\n",
       "</div>"
      ],
      "text/plain": [
       "                     id       asins      brand  \\\n",
       "0  AVpf3txeLJeJML43FN82  B0168YIWSI  Microsoft   \n",
       "1  AVpf3txeLJeJML43FN82  B0168YIWSI  Microsoft   \n",
       "2  AVpf3txeLJeJML43FN82  B0168YIWSI  Microsoft   \n",
       "3  AVpf3txeLJeJML43FN82  B0168YIWSI  Microsoft   \n",
       "4  AVpf3txeLJeJML43FN82  B0168YIWSI  Microsoft   \n",
       "\n",
       "                                          categories colors  \\\n",
       "0  Electronics,Computers,Computer Accessories,Key...  Black   \n",
       "1  Electronics,Computers,Computer Accessories,Key...  Black   \n",
       "2  Electronics,Computers,Computer Accessories,Key...  Black   \n",
       "3  Electronics,Computers,Computer Accessories,Key...  Black   \n",
       "4  Electronics,Computers,Computer Accessories,Key...  Black   \n",
       "\n",
       "              dateAdded           dateUpdated                   dimension  \\\n",
       "0  2015-11-13T12:28:09Z  2018-01-29T02:15:13Z  11.6 in x 8.5 in x 0.19 in   \n",
       "1  2015-11-13T12:28:09Z  2018-01-29T02:15:13Z  11.6 in x 8.5 in x 0.19 in   \n",
       "2  2015-11-13T12:28:09Z  2018-01-29T02:15:13Z  11.6 in x 8.5 in x 0.19 in   \n",
       "3  2015-11-13T12:28:09Z  2018-01-29T02:15:13Z  11.6 in x 8.5 in x 0.19 in   \n",
       "4  2015-11-13T12:28:09Z  2018-01-29T02:15:13Z  11.6 in x 8.5 in x 0.19 in   \n",
       "\n",
       "            ean                                          imageURLs  ...  \\\n",
       "0  8.900000e+11  https://i5.walmartimages.com/asr/2a41f6f0-844e...  ...   \n",
       "1  8.900000e+11  https://i5.walmartimages.com/asr/2a41f6f0-844e...  ...   \n",
       "2  8.900000e+11  https://i5.walmartimages.com/asr/2a41f6f0-844e...  ...   \n",
       "3  8.900000e+11  https://i5.walmartimages.com/asr/2a41f6f0-844e...  ...   \n",
       "4  8.900000e+11  https://i5.walmartimages.com/asr/2a41f6f0-844e...  ...   \n",
       "\n",
       "  reviews.doRecommend reviews.numHelpful reviews.rating  \\\n",
       "0                True                0.0            5.0   \n",
       "1                True                0.0            4.0   \n",
       "2                True                0.0            4.0   \n",
       "3                True                0.0            5.0   \n",
       "4                True                0.0            5.0   \n",
       "\n",
       "                                  reviews.sourceURLs  \\\n",
       "0  http://reviews.bestbuy.com/3545/4562009/review...   \n",
       "1  http://reviews.bestbuy.com/3545/4562009/review...   \n",
       "2  http://reviews.bestbuy.com/3545/4562009/review...   \n",
       "3  http://reviews.bestbuy.com/3545/4562009/review...   \n",
       "4  http://reviews.bestbuy.com/3545/4562009/review...   \n",
       "\n",
       "                                        reviews.text  \\\n",
       "0  This keyboard is very easy to type on, but the...   \n",
       "1  It's thin and light. I can type pretty easily ...   \n",
       "2  I love the new design the keys are spaced well...   \n",
       "3  Attached easily and firmly. Has a nice feel. A...   \n",
       "4  Our original keyboard was okay, but did not ha...   \n",
       "\n",
       "                 reviews.title reviews.username  \\\n",
       "0  Love the fingerprint reader             JNH1   \n",
       "1                         Nice             Appa   \n",
       "2                          New             Kman   \n",
       "3                Nice keyboard        UpstateNY   \n",
       "4             Nice improvement        Glickster   \n",
       "\n",
       "                                          sourceURLs           upc      weight  \n",
       "0  https://www.walmart.com/ip/Microsoft-Surface-P...  8.900000e+11  1.1 pounds  \n",
       "1  https://www.walmart.com/ip/Microsoft-Surface-P...  8.900000e+11  1.1 pounds  \n",
       "2  https://www.walmart.com/ip/Microsoft-Surface-P...  8.900000e+11  1.1 pounds  \n",
       "3  https://www.walmart.com/ip/Microsoft-Surface-P...  8.900000e+11  1.1 pounds  \n",
       "4  https://www.walmart.com/ip/Microsoft-Surface-P...  8.900000e+11  1.1 pounds  \n",
       "\n",
       "[5 rows x 27 columns]"
      ]
     },
     "execution_count": 7,
     "metadata": {},
     "output_type": "execute_result"
    }
   ],
   "source": [
    "Reviews.head(5)"
   ]
  },
  {
   "cell_type": "markdown",
   "id": "4e6f5495",
   "metadata": {},
   "source": [
    "### Data Exploration"
   ]
  },
  {
   "cell_type": "code",
   "execution_count": 8,
   "id": "0984a8d7",
   "metadata": {},
   "outputs": [
    {
     "name": "stdout",
     "output_type": "stream",
     "text": [
      "<class 'pandas.core.frame.DataFrame'>\n",
      "RangeIndex: 7299 entries, 0 to 7298\n",
      "Data columns (total 27 columns):\n",
      " #   Column               Non-Null Count  Dtype  \n",
      "---  ------               --------------  -----  \n",
      " 0   id                   7299 non-null   object \n",
      " 1   asins                7299 non-null   object \n",
      " 2   brand                7299 non-null   object \n",
      " 3   categories           7299 non-null   object \n",
      " 4   colors               5280 non-null   object \n",
      " 5   dateAdded            7299 non-null   object \n",
      " 6   dateUpdated          7299 non-null   object \n",
      " 7   dimension            6090 non-null   object \n",
      " 8   ean                  2951 non-null   float64\n",
      " 9   imageURLs            7299 non-null   object \n",
      " 10  keys                 7299 non-null   object \n",
      " 11  manufacturer         4632 non-null   object \n",
      " 12  manufacturerNumber   7299 non-null   object \n",
      " 13  name                 7299 non-null   object \n",
      " 14  primaryCategories    7299 non-null   object \n",
      " 15  reviews.date         7238 non-null   object \n",
      " 16  reviews.dateSeen     7299 non-null   object \n",
      " 17  reviews.doRecommend  5908 non-null   object \n",
      " 18  reviews.numHelpful   5813 non-null   float64\n",
      " 19  reviews.rating       7135 non-null   float64\n",
      " 20  reviews.sourceURLs   7299 non-null   object \n",
      " 21  reviews.text         7294 non-null   object \n",
      " 22  reviews.title        7295 non-null   object \n",
      " 23  reviews.username     7299 non-null   object \n",
      " 24  sourceURLs           7299 non-null   object \n",
      " 25  upc                  7299 non-null   float64\n",
      " 26  weight               7299 non-null   object \n",
      "dtypes: float64(4), object(23)\n",
      "memory usage: 1.5+ MB\n"
     ]
    }
   ],
   "source": [
    "Reviews.info() "
   ]
  },
  {
   "cell_type": "code",
   "execution_count": 9,
   "id": "585a14a3",
   "metadata": {},
   "outputs": [
    {
     "data": {
      "text/html": [
       "<div>\n",
       "<style scoped>\n",
       "    .dataframe tbody tr th:only-of-type {\n",
       "        vertical-align: middle;\n",
       "    }\n",
       "\n",
       "    .dataframe tbody tr th {\n",
       "        vertical-align: top;\n",
       "    }\n",
       "\n",
       "    .dataframe thead th {\n",
       "        text-align: right;\n",
       "    }\n",
       "</style>\n",
       "<table border=\"1\" class=\"dataframe\">\n",
       "  <thead>\n",
       "    <tr style=\"text-align: right;\">\n",
       "      <th></th>\n",
       "      <th>ean</th>\n",
       "      <th>reviews.numHelpful</th>\n",
       "      <th>reviews.rating</th>\n",
       "      <th>upc</th>\n",
       "    </tr>\n",
       "  </thead>\n",
       "  <tbody>\n",
       "    <tr>\n",
       "      <th>count</th>\n",
       "      <td>2.951000e+03</td>\n",
       "      <td>5813.00</td>\n",
       "      <td>7135.00</td>\n",
       "      <td>7.299000e+03</td>\n",
       "    </tr>\n",
       "    <tr>\n",
       "      <th>mean</th>\n",
       "      <td>2.986492e+11</td>\n",
       "      <td>0.75</td>\n",
       "      <td>4.37</td>\n",
       "      <td>3.866713e+11</td>\n",
       "    </tr>\n",
       "    <tr>\n",
       "      <th>std</th>\n",
       "      <td>3.385510e+11</td>\n",
       "      <td>3.42</td>\n",
       "      <td>1.04</td>\n",
       "      <td>3.681693e+11</td>\n",
       "    </tr>\n",
       "    <tr>\n",
       "      <th>min</th>\n",
       "      <td>2.710811e+10</td>\n",
       "      <td>0.00</td>\n",
       "      <td>1.00</td>\n",
       "      <td>1.781766e+10</td>\n",
       "    </tr>\n",
       "    <tr>\n",
       "      <th>25%</th>\n",
       "      <td>9.785510e+10</td>\n",
       "      <td>0.00</td>\n",
       "      <td>4.00</td>\n",
       "      <td>5.003633e+10</td>\n",
       "    </tr>\n",
       "    <tr>\n",
       "      <th>50%</th>\n",
       "      <td>9.785510e+10</td>\n",
       "      <td>0.00</td>\n",
       "      <td>5.00</td>\n",
       "      <td>9.785510e+10</td>\n",
       "    </tr>\n",
       "    <tr>\n",
       "      <th>75%</th>\n",
       "      <td>6.490000e+11</td>\n",
       "      <td>0.00</td>\n",
       "      <td>5.00</td>\n",
       "      <td>7.930000e+11</td>\n",
       "    </tr>\n",
       "    <tr>\n",
       "      <th>max</th>\n",
       "      <td>8.900000e+11</td>\n",
       "      <td>128.00</td>\n",
       "      <td>5.00</td>\n",
       "      <td>8.900000e+11</td>\n",
       "    </tr>\n",
       "  </tbody>\n",
       "</table>\n",
       "</div>"
      ],
      "text/plain": [
       "                ean  reviews.numHelpful  reviews.rating           upc\n",
       "count  2.951000e+03             5813.00         7135.00  7.299000e+03\n",
       "mean   2.986492e+11                0.75            4.37  3.866713e+11\n",
       "std    3.385510e+11                3.42            1.04  3.681693e+11\n",
       "min    2.710811e+10                0.00            1.00  1.781766e+10\n",
       "25%    9.785510e+10                0.00            4.00  5.003633e+10\n",
       "50%    9.785510e+10                0.00            5.00  9.785510e+10\n",
       "75%    6.490000e+11                0.00            5.00  7.930000e+11\n",
       "max    8.900000e+11              128.00            5.00  8.900000e+11"
      ]
     },
     "metadata": {},
     "output_type": "display_data"
    }
   ],
   "source": [
    "display(Reviews.describe().round(2))"
   ]
  },
  {
   "cell_type": "markdown",
   "id": "6add05d9",
   "metadata": {},
   "source": [
    "### Checking Missing Values"
   ]
  },
  {
   "cell_type": "code",
   "execution_count": 10,
   "id": "dd15ce71",
   "metadata": {},
   "outputs": [
    {
     "data": {
      "text/plain": [
       "id                     False\n",
       "asins                  False\n",
       "brand                  False\n",
       "categories             False\n",
       "colors                  True\n",
       "dateAdded              False\n",
       "dateUpdated            False\n",
       "dimension               True\n",
       "ean                     True\n",
       "imageURLs              False\n",
       "keys                   False\n",
       "manufacturer            True\n",
       "manufacturerNumber     False\n",
       "name                   False\n",
       "primaryCategories      False\n",
       "reviews.date            True\n",
       "reviews.dateSeen       False\n",
       "reviews.doRecommend     True\n",
       "reviews.numHelpful      True\n",
       "reviews.rating          True\n",
       "reviews.sourceURLs     False\n",
       "reviews.text            True\n",
       "reviews.title           True\n",
       "reviews.username       False\n",
       "sourceURLs             False\n",
       "upc                    False\n",
       "weight                 False\n",
       "dtype: bool"
      ]
     },
     "execution_count": 10,
     "metadata": {},
     "output_type": "execute_result"
    }
   ],
   "source": [
    "Reviews.isnull().any()"
   ]
  },
  {
   "cell_type": "code",
   "execution_count": 11,
   "id": "026b4fd1",
   "metadata": {},
   "outputs": [
    {
     "data": {
      "text/plain": [
       "id                        0\n",
       "asins                     0\n",
       "brand                     0\n",
       "categories                0\n",
       "colors                 2019\n",
       "dateAdded                 0\n",
       "dateUpdated               0\n",
       "dimension              1209\n",
       "ean                    4348\n",
       "imageURLs                 0\n",
       "keys                      0\n",
       "manufacturer           2667\n",
       "manufacturerNumber        0\n",
       "name                      0\n",
       "primaryCategories         0\n",
       "reviews.date             61\n",
       "reviews.dateSeen          0\n",
       "reviews.doRecommend    1391\n",
       "reviews.numHelpful     1486\n",
       "reviews.rating          164\n",
       "reviews.sourceURLs        0\n",
       "reviews.text              5\n",
       "reviews.title             4\n",
       "reviews.username          0\n",
       "sourceURLs                0\n",
       "upc                       0\n",
       "weight                    0\n",
       "dtype: int64"
      ]
     },
     "execution_count": 11,
     "metadata": {},
     "output_type": "execute_result"
    }
   ],
   "source": [
    "Reviews.isnull().sum()"
   ]
  },
  {
   "cell_type": "code",
   "execution_count": 12,
   "id": "ed4d353c",
   "metadata": {},
   "outputs": [],
   "source": [
    "# Replacing reviews.numHelpful missing values with zero value\n",
    "Reviews['reviews.numHelpful'] = Reviews['reviews.numHelpful'].fillna(0)"
   ]
  },
  {
   "cell_type": "code",
   "execution_count": 13,
   "id": "980ad0af",
   "metadata": {},
   "outputs": [],
   "source": [
    "# Replacing reviews.rating missing values with value of 3 (netural rating)\n",
    "Reviews['reviews.rating'] = Reviews['reviews.rating'].fillna(3)"
   ]
  },
  {
   "cell_type": "code",
   "execution_count": 14,
   "id": "86021db0",
   "metadata": {},
   "outputs": [
    {
     "data": {
      "text/plain": [
       "id                        0\n",
       "asins                     0\n",
       "brand                     0\n",
       "categories                0\n",
       "colors                 2019\n",
       "dateAdded                 0\n",
       "dateUpdated               0\n",
       "dimension              1209\n",
       "ean                    4348\n",
       "imageURLs                 0\n",
       "keys                      0\n",
       "manufacturer           2667\n",
       "manufacturerNumber        0\n",
       "name                      0\n",
       "primaryCategories         0\n",
       "reviews.date             61\n",
       "reviews.dateSeen          0\n",
       "reviews.doRecommend    1391\n",
       "reviews.numHelpful        0\n",
       "reviews.rating            0\n",
       "reviews.sourceURLs        0\n",
       "reviews.text              5\n",
       "reviews.title             4\n",
       "reviews.username          0\n",
       "sourceURLs                0\n",
       "upc                       0\n",
       "weight                    0\n",
       "dtype: int64"
      ]
     },
     "execution_count": 14,
     "metadata": {},
     "output_type": "execute_result"
    }
   ],
   "source": [
    "Reviews.isna().sum()"
   ]
  },
  {
   "cell_type": "code",
   "execution_count": 15,
   "id": "5ce07c8d",
   "metadata": {},
   "outputs": [],
   "source": [
    "# Dropping Null values of colors, dimension, ean, reviews_date, manufacturer, reviews_doRecommend, reviews_text,reviews.title  \n",
    "Reviews.dropna(how='any', inplace=True)"
   ]
  },
  {
   "cell_type": "code",
   "execution_count": 16,
   "id": "3c412630",
   "metadata": {},
   "outputs": [
    {
     "data": {
      "text/plain": [
       "id                     0\n",
       "asins                  0\n",
       "brand                  0\n",
       "categories             0\n",
       "colors                 0\n",
       "dateAdded              0\n",
       "dateUpdated            0\n",
       "dimension              0\n",
       "ean                    0\n",
       "imageURLs              0\n",
       "keys                   0\n",
       "manufacturer           0\n",
       "manufacturerNumber     0\n",
       "name                   0\n",
       "primaryCategories      0\n",
       "reviews.date           0\n",
       "reviews.dateSeen       0\n",
       "reviews.doRecommend    0\n",
       "reviews.numHelpful     0\n",
       "reviews.rating         0\n",
       "reviews.sourceURLs     0\n",
       "reviews.text           0\n",
       "reviews.title          0\n",
       "reviews.username       0\n",
       "sourceURLs             0\n",
       "upc                    0\n",
       "weight                 0\n",
       "dtype: int64"
      ]
     },
     "execution_count": 16,
     "metadata": {},
     "output_type": "execute_result"
    }
   ],
   "source": [
    "Reviews.isnull().sum()"
   ]
  },
  {
   "cell_type": "markdown",
   "id": "4bfb9c2c",
   "metadata": {},
   "source": [
    "### Data Analyzing"
   ]
  },
  {
   "cell_type": "markdown",
   "id": "3c1f4a16",
   "metadata": {},
   "source": [
    "Using exploratory data analysis, determine the frequency of the words used in each review. Getting the words from the text by accessing it, using a lambda function to divide them by the spaces between the reviews, and then counting the words per review. creating a histogram from the text. Let's examine the distribution of review word counts."
   ]
  },
  {
   "cell_type": "code",
   "execution_count": 17,
   "id": "8ad137cb",
   "metadata": {},
   "outputs": [
    {
     "data": {
      "image/png": "[encoded data removed]",
      "text/plain": [
       "<Figure size 792x288 with 1 Axes>"
      ]
     },
     "metadata": {
      "needs_background": "light"
     },
     "output_type": "display_data"
    }
   ],
   "source": [
    "# Getting the number of words by splitting them by a space\n",
    "numof_words_per_review = Reviews['reviews.text'].apply(lambda x: len(x.split(\" \")))\n",
    "numof_words_per_review.hist(bins=100, color='Purple', figsize=(11, 4))\n",
    "plt.xlabel('Number of Words')\n",
    "plt.ylabel('Frequancy')\n",
    "plt.show() "
   ]
  },
  {
   "cell_type": "code",
   "execution_count": 18,
   "id": "18c22688",
   "metadata": {},
   "outputs": [
    {
     "name": "stdout",
     "output_type": "stream",
     "text": [
      "Average words: 41.13055555555555\n",
      "Skewness: 3.5032595217548295\n"
     ]
    }
   ],
   "source": [
    "print('Average words:', numof_words_per_review.mean())\n",
    "print('Skewness:', numof_words_per_review.skew())"
   ]
  },
  {
   "cell_type": "code",
   "execution_count": 19,
   "id": "992804ec",
   "metadata": {},
   "outputs": [
    {
     "data": {
      "text/plain": [
       "5.0    61.222222\n",
       "4.0    26.055556\n",
       "3.0     6.333333\n",
       "2.0     3.222222\n",
       "1.0     3.166667\n",
       "Name: reviews.rating, dtype: float64"
      ]
     },
     "execution_count": 19,
     "metadata": {},
     "output_type": "execute_result"
    }
   ],
   "source": [
    "# calculating the rating percentage\n",
    "rating_percentVal = 100* Reviews['reviews.rating'].value_counts()/len(Reviews)\n",
    "rating_percentVal"
   ]
  },
  {
   "cell_type": "code",
   "execution_count": 20,
   "id": "13484d7b",
   "metadata": {},
   "outputs": [
    {
     "data": {
      "image/png": "[encoded data removed]",
      "text/plain": [
       "<Figure size 720x288 with 1 Axes>"
      ]
     },
     "metadata": {
      "needs_background": "light"
     },
     "output_type": "display_data"
    }
   ],
   "source": [
    "# scores distribution\n",
    "rating_percentVal.plot.bar(figsize=(10,4),color='Purple')\n",
    "plt.xlabel('product rating')\n",
    "plt.ylabel('rating percentage')\n",
    "plt.show()"
   ]
  },
  {
   "cell_type": "markdown",
   "id": "a034e173",
   "metadata": {},
   "source": [
    "### Data Visualization"
   ]
  },
  {
   "cell_type": "markdown",
   "id": "1583527b",
   "metadata": {},
   "source": [
    "Both numerical and textual data benefit greatly from visualization. However, unlike numerical data, the language does not lend itself to scatterplots or histograms. In these situations, word clouds are a popular and extremely helpful tool to understand the text distribution.\n",
    "\n",
    "To make a word cloud of the string values of the text data, we are going to import the WordCloud package and join all the text with the .join() method."
   ]
  },
  {
   "cell_type": "code",
   "execution_count": 21,
   "id": "4202ea68",
   "metadata": {},
   "outputs": [
    {
     "name": "stdout",
     "output_type": "stream",
     "text": [
      "Requirement already satisfied: wordcloud in /opt/anaconda3/lib/python3.8/site-packages (1.8.2.2)\n",
      "Requirement already satisfied: numpy>=1.6.1 in /opt/anaconda3/lib/python3.8/site-packages (from wordcloud) (1.20.1)\n",
      "Requirement already satisfied: pillow in /opt/anaconda3/lib/python3.8/site-packages (from wordcloud) (8.2.0)\n",
      "Requirement already satisfied: matplotlib in /opt/anaconda3/lib/python3.8/site-packages (from wordcloud) (3.3.4)\n",
      "Requirement already satisfied: pyparsing!=2.0.4,!=2.1.2,!=2.1.6,>=2.0.3 in /opt/anaconda3/lib/python3.8/site-packages (from matplotlib->wordcloud) (2.4.7)\n",
      "Requirement already satisfied: kiwisolver>=1.0.1 in /opt/anaconda3/lib/python3.8/site-packages (from matplotlib->wordcloud) (1.3.1)\n",
      "Requirement already satisfied: python-dateutil>=2.1 in /opt/anaconda3/lib/python3.8/site-packages (from matplotlib->wordcloud) (2.8.1)\n",
      "Requirement already satisfied: cycler>=0.10 in /opt/anaconda3/lib/python3.8/site-packages (from matplotlib->wordcloud) (0.10.0)\n",
      "Requirement already satisfied: six in /opt/anaconda3/lib/python3.8/site-packages (from cycler>=0.10->matplotlib->wordcloud) (1.15.0)\n",
      "Note: you may need to restart the kernel to use updated packages.\n"
     ]
    }
   ],
   "source": [
    " pip install wordcloud"
   ]
  },
  {
   "cell_type": "code",
   "execution_count": 22,
   "id": "cf096c60",
   "metadata": {},
   "outputs": [],
   "source": [
    "# NLP packages\n",
    "import nltk  # the most famous python module for NLP techniques\n",
    "from nltk import word_tokenize\n",
    "from nltk.tokenize import word_tokenize\n",
    "from sklearn.feature_extraction.text import CountVectorizer\n",
    "from sklearn.feature_extraction.text import TfidfVectorizer\n",
    "from collections import Counter\n",
    "from wordcloud import WordCloud"
   ]
  },
  {
   "cell_type": "code",
   "execution_count": 25,
   "id": "b46441c2",
   "metadata": {},
   "outputs": [
    {
     "data": {
      "image/png": "[encoded data removed]",
      "text/plain": [
       "<Figure size 432x288 with 1 Axes>"
      ]
     },
     "metadata": {
      "needs_background": "light"
     },
     "output_type": "display_data"
    }
   ],
   "source": [
    "# Joining all the reviews from dataset in a general string \n",
    "text_word_cloud = ''.join(Reviews['reviews.text'])\n",
    "\n",
    "# generating word cloud using WordCloud package and generate() function \n",
    "wc = WordCloud(max_font_size=100, # Maximum font size for the largest word\n",
    "               max_words=200, # Maximum number of words\n",
    "               background_color=\"white\", # background color of the word cloud image\n",
    "               scale=10, # Scaling between computation and drawing\n",
    "               width=800, # Width of the canvas\n",
    "               height=400 # Height of the canvas \n",
    "              ).generate(text_word_cloud)\n",
    "\n",
    "plt.figure()\n",
    "plt.imshow(wc, interpolation=\"bilinear\") # to make the displayed image appear more smoothly\n",
    "plt.axis(\"off\")\n",
    "plt.show()"
   ]
  },
  {
   "cell_type": "markdown",
   "id": "b2e23460",
   "metadata": {},
   "source": [
    "Word cloud shows the words in a text in a visual fashion by displaying them in varying sizes according to how frequently each word appears in the text. As can be seen from the word cloud, some reviews are for electronic products: \"Speakers\", \"Keyboard\" etc. Some words are related to the customers experiences, such as: \"great\", \"well\", \"love\" and some are not desired ones like, \"time\", which might not give us any insights about the reviews. So, we need to use the techniques to delete or drop these words."
   ]
  },
  {
   "cell_type": "code",
   "execution_count": null,
   "id": "a71390b8",
   "metadata": {},
   "outputs": [],
   "source": []
  }
 ],
 "metadata": {
  "kernelspec": {
   "display_name": "Python 3",
   "language": "python",
   "name": "python3"
  },
  "language_info": {
   "codemirror_mode": {
    "name": "ipython",
    "version": 3
   },
   "file_extension": ".py",
   "mimetype": "text/x-python",
   "name": "python",
   "nbconvert_exporter": "python",
   "pygments_lexer": "ipython3",
   "version": "3.8.8"
  }
 },
 "nbformat": 4,
 "nbformat_minor": 5
}
